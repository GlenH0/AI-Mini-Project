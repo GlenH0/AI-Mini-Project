{
  "nbformat": 4,
  "nbformat_minor": 0,
  "metadata": {
    "colab": {
      "name": "Linear Regression",
      "provenance": [],
      "collapsed_sections": [
        "t3YNytrhpPtY"
      ],
      "authorship_tag": "ABX9TyN6SxGfSTCEkvC2xEHSAO9t",
      "include_colab_link": true
    },
    "kernelspec": {
      "name": "python3",
      "display_name": "Python 3"
    }
  },
  "cells": [
    {
      "cell_type": "markdown",
      "metadata": {
        "id": "view-in-github",
        "colab_type": "text"
      },
      "source": [
        "<a href=\"https://colab.research.google.com/github/GlenH0/AI-Mini-Project/blob/main/Linear_Regression.ipynb\" target=\"_parent\"><img src=\"https://colab.research.google.com/assets/colab-badge.svg\" alt=\"Open In Colab\"/></a>"
      ]
    },
    {
      "cell_type": "markdown",
      "metadata": {
        "id": "_YQqQlb2VYEj"
      },
      "source": [
        "# **Initialisation**"
      ]
    },
    {
      "cell_type": "code",
      "metadata": {
        "id": "L8RKcusb4hVm",
        "outputId": "c5c81c01-b068-41ef-f5d9-e6263ed5c2d3",
        "colab": {
          "base_uri": "https://localhost:8080/"
        }
      },
      "source": [
        "import numpy as np # linear algebra\n",
        "import pandas as pd # data processing, CSV file I/O (e.g. pd.read_csv)\n",
        "%matplotlib inline\n",
        "import matplotlib.pyplot as plt  # Matlab-style plotting\n",
        "from sklearn import linear_model\n",
        "\n",
        "train = pd.read_csv('/content/train.csv')\n",
        "\n",
        "print(train.head(10))\n"
      ],
      "execution_count": null,
      "outputs": [
        {
          "output_type": "stream",
          "text": [
            "   Id BldgType  OverallQual  GrLivArea  GarageArea  SalePrice\n",
            "0   1     1Fam            7       1710         548     208500\n",
            "1   2     1Fam            6       1262         460     181500\n",
            "2   3     1Fam            7       1786         608     223500\n",
            "3   4     1Fam            7       1717         642     140000\n",
            "4   5     1Fam            8       2198         836     250000\n",
            "5   6     1Fam            5       1362         480     143000\n",
            "6   7     1Fam            8       1694         636     307000\n",
            "7   8     1Fam            7       2090         484     200000\n",
            "8   9     1Fam            7       1774         468     129900\n",
            "9  10   2FmCon            5       1077         205     118000\n"
          ],
          "name": "stdout"
        }
      ]
    },
    {
      "cell_type": "code",
      "metadata": {
        "id": "pYRXj8eBJCCl",
        "outputId": "f187d368-0ca0-42a3-8a5d-afb3b73cc27a",
        "colab": {
          "base_uri": "https://localhost:8080/"
        }
      },
      "source": [
        "test = pd.read_csv ('/content/test.csv')\n",
        "print(test.head(10))"
      ],
      "execution_count": null,
      "outputs": [
        {
          "output_type": "stream",
          "text": [
            "     Id BldgType  OverallQual  GrLivArea  GarageArea\n",
            "0  1202     1Fam            7       1779         546\n",
            "1  1203     1Fam            5       1348         216\n",
            "2  1204     1Fam            7       1630         451\n",
            "3  1205     1Fam            5       1074         495\n",
            "4  1206     1Fam            7       2196         701\n",
            "5  1207     1Fam            4       1056         384\n",
            "6  1208     1Fam            6       1700         544\n",
            "7  1209     1Fam            5       1283         506\n",
            "8  1210     1Fam            8       1660         500\n",
            "9  1211     1Fam            6       1845         462\n"
          ],
          "name": "stdout"
        }
      ]
    },
    {
      "cell_type": "code",
      "metadata": {
        "id": "9ELYqQHKFcnI"
      },
      "source": [
        "train_Id = train['Id']\n",
        "test_Id = test['Id']\n",
        "\n",
        "train.drop(['Id'], inplace = True, axis = 1)\n",
        "test.drop(['Id'], inplace = True, axis = 1)"
      ],
      "execution_count": null,
      "outputs": []
    },
    {
      "cell_type": "code",
      "metadata": {
        "id": "7sYD3BpqF1gg"
      },
      "source": [
        "def encode_and_bind(original_dataframe, feature_to_encode):\n",
        "\n",
        "    dummy = pd.get_dummies(original_dataframe[[feature_to_encode]])\n",
        "\n",
        "    res = pd.concat([original_dataframe, dummy], axis=1)\n",
        "\n",
        "    return(res)"
      ],
      "execution_count": null,
      "outputs": []
    },
    {
      "cell_type": "code",
      "metadata": {
        "id": "tBoVCnffF8ng",
        "outputId": "3fab7b6c-1168-4f4a-a36a-c8acbb6694d0",
        "colab": {
          "base_uri": "https://localhost:8080/",
          "height": 197
        }
      },
      "source": [
        "df = train\n",
        "\n",
        "df['OverallQual'] = df['OverallQual'].astype(str)\n",
        "train_new = encode_and_bind(df, 'BldgType')\n",
        "train_encode = encode_and_bind(train_new, 'OverallQual')\n",
        "\n",
        "x = train_encode.drop(['SalePrice', 'BldgType', 'OverallQual'], axis = 'columns')\n",
        "\n",
        "x.head()"
      ],
      "execution_count": null,
      "outputs": [
        {
          "output_type": "execute_result",
          "data": {
            "text/html": [
              "<div>\n",
              "<style scoped>\n",
              "    .dataframe tbody tr th:only-of-type {\n",
              "        vertical-align: middle;\n",
              "    }\n",
              "\n",
              "    .dataframe tbody tr th {\n",
              "        vertical-align: top;\n",
              "    }\n",
              "\n",
              "    .dataframe thead th {\n",
              "        text-align: right;\n",
              "    }\n",
              "</style>\n",
              "<table border=\"1\" class=\"dataframe\">\n",
              "  <thead>\n",
              "    <tr style=\"text-align: right;\">\n",
              "      <th></th>\n",
              "      <th>GrLivArea</th>\n",
              "      <th>GarageArea</th>\n",
              "      <th>BldgType_1Fam</th>\n",
              "      <th>BldgType_2FmCon</th>\n",
              "      <th>BldgType_Duplx</th>\n",
              "      <th>BldgType_TwnhsE</th>\n",
              "      <th>BldgType_TwnhsI</th>\n",
              "      <th>OverallQual_1</th>\n",
              "      <th>OverallQual_10</th>\n",
              "      <th>OverallQual_2</th>\n",
              "      <th>OverallQual_3</th>\n",
              "      <th>OverallQual_4</th>\n",
              "      <th>OverallQual_5</th>\n",
              "      <th>OverallQual_6</th>\n",
              "      <th>OverallQual_7</th>\n",
              "      <th>OverallQual_8</th>\n",
              "      <th>OverallQual_9</th>\n",
              "    </tr>\n",
              "  </thead>\n",
              "  <tbody>\n",
              "    <tr>\n",
              "      <th>0</th>\n",
              "      <td>1710</td>\n",
              "      <td>548</td>\n",
              "      <td>1</td>\n",
              "      <td>0</td>\n",
              "      <td>0</td>\n",
              "      <td>0</td>\n",
              "      <td>0</td>\n",
              "      <td>0</td>\n",
              "      <td>0</td>\n",
              "      <td>0</td>\n",
              "      <td>0</td>\n",
              "      <td>0</td>\n",
              "      <td>0</td>\n",
              "      <td>0</td>\n",
              "      <td>1</td>\n",
              "      <td>0</td>\n",
              "      <td>0</td>\n",
              "    </tr>\n",
              "    <tr>\n",
              "      <th>1</th>\n",
              "      <td>1262</td>\n",
              "      <td>460</td>\n",
              "      <td>1</td>\n",
              "      <td>0</td>\n",
              "      <td>0</td>\n",
              "      <td>0</td>\n",
              "      <td>0</td>\n",
              "      <td>0</td>\n",
              "      <td>0</td>\n",
              "      <td>0</td>\n",
              "      <td>0</td>\n",
              "      <td>0</td>\n",
              "      <td>0</td>\n",
              "      <td>1</td>\n",
              "      <td>0</td>\n",
              "      <td>0</td>\n",
              "      <td>0</td>\n",
              "    </tr>\n",
              "    <tr>\n",
              "      <th>2</th>\n",
              "      <td>1786</td>\n",
              "      <td>608</td>\n",
              "      <td>1</td>\n",
              "      <td>0</td>\n",
              "      <td>0</td>\n",
              "      <td>0</td>\n",
              "      <td>0</td>\n",
              "      <td>0</td>\n",
              "      <td>0</td>\n",
              "      <td>0</td>\n",
              "      <td>0</td>\n",
              "      <td>0</td>\n",
              "      <td>0</td>\n",
              "      <td>0</td>\n",
              "      <td>1</td>\n",
              "      <td>0</td>\n",
              "      <td>0</td>\n",
              "    </tr>\n",
              "    <tr>\n",
              "      <th>3</th>\n",
              "      <td>1717</td>\n",
              "      <td>642</td>\n",
              "      <td>1</td>\n",
              "      <td>0</td>\n",
              "      <td>0</td>\n",
              "      <td>0</td>\n",
              "      <td>0</td>\n",
              "      <td>0</td>\n",
              "      <td>0</td>\n",
              "      <td>0</td>\n",
              "      <td>0</td>\n",
              "      <td>0</td>\n",
              "      <td>0</td>\n",
              "      <td>0</td>\n",
              "      <td>1</td>\n",
              "      <td>0</td>\n",
              "      <td>0</td>\n",
              "    </tr>\n",
              "    <tr>\n",
              "      <th>4</th>\n",
              "      <td>2198</td>\n",
              "      <td>836</td>\n",
              "      <td>1</td>\n",
              "      <td>0</td>\n",
              "      <td>0</td>\n",
              "      <td>0</td>\n",
              "      <td>0</td>\n",
              "      <td>0</td>\n",
              "      <td>0</td>\n",
              "      <td>0</td>\n",
              "      <td>0</td>\n",
              "      <td>0</td>\n",
              "      <td>0</td>\n",
              "      <td>0</td>\n",
              "      <td>0</td>\n",
              "      <td>1</td>\n",
              "      <td>0</td>\n",
              "    </tr>\n",
              "  </tbody>\n",
              "</table>\n",
              "</div>"
            ],
            "text/plain": [
              "   GrLivArea  GarageArea  ...  OverallQual_8  OverallQual_9\n",
              "0       1710         548  ...              0              0\n",
              "1       1262         460  ...              0              0\n",
              "2       1786         608  ...              0              0\n",
              "3       1717         642  ...              0              0\n",
              "4       2198         836  ...              1              0\n",
              "\n",
              "[5 rows x 17 columns]"
            ]
          },
          "metadata": {
            "tags": []
          },
          "execution_count": 1411
        }
      ]
    },
    {
      "cell_type": "code",
      "metadata": {
        "id": "5M4u3rJUIJ9m",
        "outputId": "5e78c167-87c8-4162-ccf6-2276ff55519c",
        "colab": {
          "base_uri": "https://localhost:8080/"
        }
      },
      "source": [
        "y = train_encode['SalePrice']\n",
        "\n",
        "y.head()"
      ],
      "execution_count": null,
      "outputs": [
        {
          "output_type": "execute_result",
          "data": {
            "text/plain": [
              "0    208500\n",
              "1    181500\n",
              "2    223500\n",
              "3    140000\n",
              "4    250000\n",
              "Name: SalePrice, dtype: int64"
            ]
          },
          "metadata": {
            "tags": []
          },
          "execution_count": 1412
        }
      ]
    },
    {
      "cell_type": "markdown",
      "metadata": {
        "id": "63fkuE8KBb7P"
      },
      "source": [
        "# **Multiple Linear Regression**"
      ]
    },
    {
      "cell_type": "code",
      "metadata": {
        "id": "fgrXs-HzAEGl",
        "outputId": "aedfd404-1972-442b-fc24-50cb353b8467",
        "colab": {
          "base_uri": "https://localhost:8080/"
        }
      },
      "source": [
        "X = x\n",
        "Y = y\n",
        "\n",
        "Y.shape\n",
        "X.shape"
      ],
      "execution_count": null,
      "outputs": [
        {
          "output_type": "execute_result",
          "data": {
            "text/plain": [
              "(1000, 17)"
            ]
          },
          "metadata": {
            "tags": []
          },
          "execution_count": 1413
        }
      ]
    },
    {
      "cell_type": "code",
      "metadata": {
        "id": "v_bWYHZXAo79"
      },
      "source": [
        "from sklearn.model_selection import train_test_split\n",
        "X_train, X_test, Y_train, Y_test = train_test_split(X, Y, test_size=0.2, random_state= 42)"
      ],
      "execution_count": null,
      "outputs": []
    },
    {
      "cell_type": "code",
      "metadata": {
        "id": "vxLfeCKbAuFV",
        "outputId": "086dc680-f55d-487f-8fcf-85239a4ab151",
        "colab": {
          "base_uri": "https://localhost:8080/"
        }
      },
      "source": [
        "from sklearn.linear_model import LinearRegression\n",
        "regressor = LinearRegression()\n",
        "regressor.fit(X_train, Y_train)"
      ],
      "execution_count": null,
      "outputs": [
        {
          "output_type": "execute_result",
          "data": {
            "text/plain": [
              "LinearRegression(copy_X=True, fit_intercept=True, n_jobs=None, normalize=False)"
            ]
          },
          "metadata": {
            "tags": []
          },
          "execution_count": 1415
        }
      ]
    },
    {
      "cell_type": "code",
      "metadata": {
        "id": "isRVIKqzcP86",
        "outputId": "e78798ff-07c9-46a8-8817-196ad8c5d0f8",
        "colab": {
          "base_uri": "https://localhost:8080/"
        }
      },
      "source": [
        "np.set_printoptions(suppress=True)\n",
        "regressor.coef_"
      ],
      "execution_count": null,
      "outputs": [
        {
          "output_type": "execute_result",
          "data": {
            "text/plain": [
              "array([    56.24760275,     68.83929229,  13771.84274213,   -960.9681661 ,\n",
              "        -8523.82205546,   7713.15508953, -12000.2076101 , -60711.13824052,\n",
              "       143688.87270452, -88934.22348392, -60675.10706898, -45923.33409228,\n",
              "       -37436.89433367, -21470.50690325,   2077.17194822,  47296.12466562,\n",
              "       122089.03480425])"
            ]
          },
          "metadata": {
            "tags": []
          },
          "execution_count": 1416
        }
      ]
    },
    {
      "cell_type": "code",
      "metadata": {
        "id": "HD-T2gS0A8WV"
      },
      "source": [
        "y_pred = regressor.predict(X_test)"
      ],
      "execution_count": null,
      "outputs": []
    },
    {
      "cell_type": "code",
      "metadata": {
        "id": "UbPC4pa_xQOO",
        "outputId": "80b51c63-c757-4fa9-91f2-2c858412c29d",
        "colab": {
          "base_uri": "https://localhost:8080/"
        }
      },
      "source": [
        "# r2 score for linear\n",
        "from sklearn.metrics import r2_score\n",
        "\n",
        "test_set_r2 = r2_score(Y_test, y_pred)\n",
        "# The closer towards 1, the better the fit\n",
        "test_set_r2\n",
        "\n"
      ],
      "execution_count": null,
      "outputs": [
        {
          "output_type": "execute_result",
          "data": {
            "text/plain": [
              "0.7767688400584829"
            ]
          },
          "metadata": {
            "tags": []
          },
          "execution_count": 1418
        }
      ]
    },
    {
      "cell_type": "code",
      "metadata": {
        "id": "Qb0qVzAoA-D2",
        "outputId": "e51dc990-889f-4f8e-fb2b-7fbdc343b9c4",
        "colab": {
          "base_uri": "https://localhost:8080/",
          "height": 197
        }
      },
      "source": [
        "df = pd.DataFrame({'Actual': Y_test, 'Predicted': y_pred})\n",
        "df.head()"
      ],
      "execution_count": null,
      "outputs": [
        {
          "output_type": "execute_result",
          "data": {
            "text/html": [
              "<div>\n",
              "<style scoped>\n",
              "    .dataframe tbody tr th:only-of-type {\n",
              "        vertical-align: middle;\n",
              "    }\n",
              "\n",
              "    .dataframe tbody tr th {\n",
              "        vertical-align: top;\n",
              "    }\n",
              "\n",
              "    .dataframe thead th {\n",
              "        text-align: right;\n",
              "    }\n",
              "</style>\n",
              "<table border=\"1\" class=\"dataframe\">\n",
              "  <thead>\n",
              "    <tr style=\"text-align: right;\">\n",
              "      <th></th>\n",
              "      <th>Actual</th>\n",
              "      <th>Predicted</th>\n",
              "    </tr>\n",
              "  </thead>\n",
              "  <tbody>\n",
              "    <tr>\n",
              "      <th>521</th>\n",
              "      <td>150000</td>\n",
              "      <td>147675.385268</td>\n",
              "    </tr>\n",
              "    <tr>\n",
              "      <th>737</th>\n",
              "      <td>239900</td>\n",
              "      <td>279713.363193</td>\n",
              "    </tr>\n",
              "    <tr>\n",
              "      <th>740</th>\n",
              "      <td>132000</td>\n",
              "      <td>143935.690170</td>\n",
              "    </tr>\n",
              "    <tr>\n",
              "      <th>660</th>\n",
              "      <td>197900</td>\n",
              "      <td>224821.766171</td>\n",
              "    </tr>\n",
              "    <tr>\n",
              "      <th>411</th>\n",
              "      <td>145000</td>\n",
              "      <td>122647.710592</td>\n",
              "    </tr>\n",
              "  </tbody>\n",
              "</table>\n",
              "</div>"
            ],
            "text/plain": [
              "     Actual      Predicted\n",
              "521  150000  147675.385268\n",
              "737  239900  279713.363193\n",
              "740  132000  143935.690170\n",
              "660  197900  224821.766171\n",
              "411  145000  122647.710592"
            ]
          },
          "metadata": {
            "tags": []
          },
          "execution_count": 1419
        }
      ]
    },
    {
      "cell_type": "code",
      "metadata": {
        "id": "m7uET6EZQnF4",
        "outputId": "1c76e417-0a34-46ce-f5ff-f93422c17ab1",
        "colab": {
          "base_uri": "https://localhost:8080/",
          "height": 282
        }
      },
      "source": [
        "plt.scatter(Y_test, y_pred)"
      ],
      "execution_count": null,
      "outputs": [
        {
          "output_type": "execute_result",
          "data": {
            "text/plain": [
              "<matplotlib.collections.PathCollection at 0x7f503c4ece10>"
            ]
          },
          "metadata": {
            "tags": []
          },
          "execution_count": 1420
        },
        {
          "output_type": "display_data",
          "data": {
            "image/png": "[encoded data removed]",
            "text/plain": [
              "<Figure size 432x288 with 1 Axes>"
            ]
          },
          "metadata": {
            "tags": [],
            "needs_background": "light"
          }
        }
      ]
    },
    {
      "cell_type": "code",
      "metadata": {
        "id": "jxjXrKzn-QUn",
        "outputId": "a141a952-f6f4-4fec-cbf3-4cffa564ddd6",
        "colab": {
          "base_uri": "https://localhost:8080/",
          "height": 343
        }
      },
      "source": [
        "import seaborn as sns\n",
        "sns.distplot((Y_test - y_pred), bins= 20); #bins is the number of bar i want to show in histogram"
      ],
      "execution_count": null,
      "outputs": [
        {
          "output_type": "stream",
          "text": [
            "/usr/local/lib/python3.6/dist-packages/seaborn/distributions.py:2551: FutureWarning: `distplot` is a deprecated function and will be removed in a future version. Please adapt your code to use either `displot` (a figure-level function with similar flexibility) or `histplot` (an axes-level function for histograms).\n",
            "  warnings.warn(msg, FutureWarning)\n"
          ],
          "name": "stderr"
        },
        {
          "output_type": "display_data",
          "data": {
            "image/png": "[encoded data removed]",
            "text/plain": [
              "<Figure size 432x288 with 1 Axes>"
            ]
          },
          "metadata": {
            "tags": [],
            "needs_background": "light"
          }
        }
      ]
    },
    {
      "cell_type": "code",
      "metadata": {
        "id": "TkBzlmFt-R_t",
        "outputId": "0a0e2876-5137-4e6e-b849-00a66e303dfb",
        "colab": {
          "base_uri": "https://localhost:8080/",
          "height": 264
        }
      },
      "source": [
        "# histogram\n",
        "plt.hist((y_pred), bins= 20, rwidth = 0.8)\n",
        "plt.ylabel('Count')\n",
        "plt.show()"
      ],
      "execution_count": null,
      "outputs": [
        {
          "output_type": "display_data",
          "data": {
            "image/png": "[encoded data removed]",
            "text/plain": [
              "<Figure size 432x288 with 1 Axes>"
            ]
          },
          "metadata": {
            "tags": [],
            "needs_background": "light"
          }
        }
      ]
    },
    {
      "cell_type": "code",
      "metadata": {
        "id": "PK5tJURbd3-3"
      },
      "source": [
        "# For calculating my mae, mse, rmse...\n",
        "from sklearn import metrics\n",
        "from sklearn.model_selection import cross_val_score\n",
        "\n",
        "def cross_val(model):\n",
        "    pred = cross_val_score(model, X, y, cv=10)\n",
        "    return pred.mean()\n",
        "\n",
        "def print_evaluate(true, predicted):  \n",
        "    mae = metrics.mean_absolute_error(true, predicted)\n",
        "    mse = metrics.mean_squared_error(true, predicted)\n",
        "    rmse = np.sqrt(metrics.mean_squared_error(true, predicted))\n",
        "    r2_square = metrics.r2_score(true, predicted)\n",
        "    print('MAE:', mae)\n",
        "    print('MSE:', mse)\n",
        "    print('RMSE:', rmse)\n",
        "    print('R2 Square', r2_square)\n",
        "    \n",
        "def evaluate(true, predicted):\n",
        "    mae = metrics.mean_absolute_error(true, predicted)\n",
        "    mse = metrics.mean_squared_error(true, predicted)\n",
        "    rmse = np.sqrt(metrics.mean_squared_error(true, predicted))\n",
        "    r2_square = metrics.r2_score(true, predicted)\n",
        "    return mae, mse, rmse, r2_square"
      ],
      "execution_count": null,
      "outputs": []
    },
    {
      "cell_type": "code",
      "metadata": {
        "id": "4NT5r-3hSRxG",
        "outputId": "4e855976-a246-494a-d123-8d63b6e294b4",
        "colab": {
          "base_uri": "https://localhost:8080/"
        }
      },
      "source": [
        "print_evaluate(Y_test, regressor.predict(X_test))"
      ],
      "execution_count": null,
      "outputs": [
        {
          "output_type": "stream",
          "text": [
            "MAE: 22643.417620959764\n",
            "MSE: 932259643.7763058\n",
            "RMSE: 30532.92720615411\n",
            "R2 Square 0.7767688400584829\n"
          ],
          "name": "stdout"
        }
      ]
    },
    {
      "cell_type": "code",
      "metadata": {
        "id": "uzm0IrXgDUK0",
        "outputId": "d362a1cc-bd23-44f8-e692-4d517c1c2ccb",
        "colab": {
          "base_uri": "https://localhost:8080/"
        }
      },
      "source": [
        "from sklearn import metrics\n",
        "print('Mean Absolute Error:', metrics.mean_absolute_error(Y_test, y_pred))\n",
        "print('Mean Squared Error:', metrics.mean_squared_error(Y_test, y_pred))\n",
        "# Note that for rmse, the lower that value is, the better the fit\n",
        "print('Root Mean Squared Error:', np.sqrt(metrics.mean_squared_error(Y_test, y_pred)))"
      ],
      "execution_count": null,
      "outputs": [
        {
          "output_type": "stream",
          "text": [
            "Mean Absolute Error: 22643.417620959764\n",
            "Mean Squared Error: 932259643.7763058\n",
            "Root Mean Squared Error: 30532.92720615411\n"
          ],
          "name": "stdout"
        }
      ]
    },
    {
      "cell_type": "code",
      "metadata": {
        "id": "lViU6r9hVr2F",
        "outputId": "bb8dc076-aed4-4cee-8fdc-8acd8f4e08fa",
        "colab": {
          "base_uri": "https://localhost:8080/",
          "height": 77
        }
      },
      "source": [
        "results_df = pd.DataFrame(data=[[\"Linear Regression\", *evaluate(Y_test, y_pred) , cross_val(LinearRegression())]], \n",
        "                          columns=['Model', 'MAE', 'MSE', 'RMSE', 'R2 Square', \"Cross Validation\"])\n",
        "results_df"
      ],
      "execution_count": null,
      "outputs": [
        {
          "output_type": "execute_result",
          "data": {
            "text/html": [
              "<div>\n",
              "<style scoped>\n",
              "    .dataframe tbody tr th:only-of-type {\n",
              "        vertical-align: middle;\n",
              "    }\n",
              "\n",
              "    .dataframe tbody tr th {\n",
              "        vertical-align: top;\n",
              "    }\n",
              "\n",
              "    .dataframe thead th {\n",
              "        text-align: right;\n",
              "    }\n",
              "</style>\n",
              "<table border=\"1\" class=\"dataframe\">\n",
              "  <thead>\n",
              "    <tr style=\"text-align: right;\">\n",
              "      <th></th>\n",
              "      <th>Model</th>\n",
              "      <th>MAE</th>\n",
              "      <th>MSE</th>\n",
              "      <th>RMSE</th>\n",
              "      <th>R2 Square</th>\n",
              "      <th>Cross Validation</th>\n",
              "    </tr>\n",
              "  </thead>\n",
              "  <tbody>\n",
              "    <tr>\n",
              "      <th>0</th>\n",
              "      <td>Linear Regression</td>\n",
              "      <td>22643.417621</td>\n",
              "      <td>9.322596e+08</td>\n",
              "      <td>30532.927206</td>\n",
              "      <td>0.776769</td>\n",
              "      <td>0.78899</td>\n",
              "    </tr>\n",
              "  </tbody>\n",
              "</table>\n",
              "</div>"
            ],
            "text/plain": [
              "               Model           MAE  ...  R2 Square  Cross Validation\n",
              "0  Linear Regression  22643.417621  ...   0.776769           0.78899\n",
              "\n",
              "[1 rows x 6 columns]"
            ]
          },
          "metadata": {
            "tags": []
          },
          "execution_count": 1426
        }
      ]
    },
    {
      "cell_type": "markdown",
      "metadata": {
        "id": "t3YNytrhpPtY"
      },
      "source": [
        "# **Prediction for Test - part c of question**"
      ]
    },
    {
      "cell_type": "code",
      "metadata": {
        "id": "99OxHb1aotXx"
      },
      "source": [
        "# adjust test_encoded.csv to form same param as x (train_encoded.csv)\n",
        "\n",
        "df = test\n",
        "# range from 1 to 10, excluding 11\n",
        "for a in range(1,11):\n",
        "# check if any of the value is in the table\n",
        "  if a not in (df['OverallQual'].unique()):\n",
        "\n",
        "    l= 'OverallQual_' +str(a)\n",
        "\n",
        "    b=[]\n",
        "\n",
        "    for item in df['GarageArea']:\n",
        "\n",
        "      b.append(0)\n",
        "\n",
        "    df[l] = b"
      ],
      "execution_count": null,
      "outputs": []
    },
    {
      "cell_type": "code",
      "metadata": {
        "id": "ZwNQAAO0pTnZ",
        "outputId": "aea8f6c1-4b1d-4a45-87fe-4dc1af6de36a",
        "colab": {
          "base_uri": "https://localhost:8080/"
        }
      },
      "source": [
        "# convert to string for encoding\n",
        "df['OverallQual'] = df['OverallQual'].astype(str)\n",
        "# encoding BldgType and OverallQual\n",
        "test_new = encode_and_bind(df, 'BldgType')\n",
        "test_encode = encode_and_bind(test_new, 'OverallQual')\n",
        "# Removing original col since encoded \n",
        "z = test_encode.drop(['BldgType', 'OverallQual'], axis = 'columns')\n",
        "\n",
        "z.head()"
      ],
      "execution_count": null,
      "outputs": [
        {
          "output_type": "execute_result",
          "data": {
            "text/html": [
              "<div>\n",
              "<style scoped>\n",
              "    .dataframe tbody tr th:only-of-type {\n",
              "        vertical-align: middle;\n",
              "    }\n",
              "\n",
              "    .dataframe tbody tr th {\n",
              "        vertical-align: top;\n",
              "    }\n",
              "\n",
              "    .dataframe thead th {\n",
              "        text-align: right;\n",
              "    }\n",
              "</style>\n",
              "<table border=\"1\" class=\"dataframe\">\n",
              "  <thead>\n",
              "    <tr style=\"text-align: right;\">\n",
              "      <th></th>\n",
              "      <th>GrLivArea</th>\n",
              "      <th>GarageArea</th>\n",
              "      <th>OverallQual_1</th>\n",
              "      <th>OverallQual_2</th>\n",
              "      <th>BldgType_1Fam</th>\n",
              "      <th>BldgType_2FmCon</th>\n",
              "      <th>BldgType_Duplx</th>\n",
              "      <th>BldgType_TwnhsE</th>\n",
              "      <th>BldgType_TwnhsI</th>\n",
              "      <th>OverallQual_10</th>\n",
              "      <th>OverallQual_3</th>\n",
              "      <th>OverallQual_4</th>\n",
              "      <th>OverallQual_5</th>\n",
              "      <th>OverallQual_6</th>\n",
              "      <th>OverallQual_7</th>\n",
              "      <th>OverallQual_8</th>\n",
              "      <th>OverallQual_9</th>\n",
              "    </tr>\n",
              "  </thead>\n",
              "  <tbody>\n",
              "    <tr>\n",
              "      <th>0</th>\n",
              "      <td>1779</td>\n",
              "      <td>546</td>\n",
              "      <td>0</td>\n",
              "      <td>0</td>\n",
              "      <td>1</td>\n",
              "      <td>0</td>\n",
              "      <td>0</td>\n",
              "      <td>0</td>\n",
              "      <td>0</td>\n",
              "      <td>0</td>\n",
              "      <td>0</td>\n",
              "      <td>0</td>\n",
              "      <td>0</td>\n",
              "      <td>0</td>\n",
              "      <td>1</td>\n",
              "      <td>0</td>\n",
              "      <td>0</td>\n",
              "    </tr>\n",
              "    <tr>\n",
              "      <th>1</th>\n",
              "      <td>1348</td>\n",
              "      <td>216</td>\n",
              "      <td>0</td>\n",
              "      <td>0</td>\n",
              "      <td>1</td>\n",
              "      <td>0</td>\n",
              "      <td>0</td>\n",
              "      <td>0</td>\n",
              "      <td>0</td>\n",
              "      <td>0</td>\n",
              "      <td>0</td>\n",
              "      <td>0</td>\n",
              "      <td>1</td>\n",
              "      <td>0</td>\n",
              "      <td>0</td>\n",
              "      <td>0</td>\n",
              "      <td>0</td>\n",
              "    </tr>\n",
              "    <tr>\n",
              "      <th>2</th>\n",
              "      <td>1630</td>\n",
              "      <td>451</td>\n",
              "      <td>0</td>\n",
              "      <td>0</td>\n",
              "      <td>1</td>\n",
              "      <td>0</td>\n",
              "      <td>0</td>\n",
              "      <td>0</td>\n",
              "      <td>0</td>\n",
              "      <td>0</td>\n",
              "      <td>0</td>\n",
              "      <td>0</td>\n",
              "      <td>0</td>\n",
              "      <td>0</td>\n",
              "      <td>1</td>\n",
              "      <td>0</td>\n",
              "      <td>0</td>\n",
              "    </tr>\n",
              "    <tr>\n",
              "      <th>3</th>\n",
              "      <td>1074</td>\n",
              "      <td>495</td>\n",
              "      <td>0</td>\n",
              "      <td>0</td>\n",
              "      <td>1</td>\n",
              "      <td>0</td>\n",
              "      <td>0</td>\n",
              "      <td>0</td>\n",
              "      <td>0</td>\n",
              "      <td>0</td>\n",
              "      <td>0</td>\n",
              "      <td>0</td>\n",
              "      <td>1</td>\n",
              "      <td>0</td>\n",
              "      <td>0</td>\n",
              "      <td>0</td>\n",
              "      <td>0</td>\n",
              "    </tr>\n",
              "    <tr>\n",
              "      <th>4</th>\n",
              "      <td>2196</td>\n",
              "      <td>701</td>\n",
              "      <td>0</td>\n",
              "      <td>0</td>\n",
              "      <td>1</td>\n",
              "      <td>0</td>\n",
              "      <td>0</td>\n",
              "      <td>0</td>\n",
              "      <td>0</td>\n",
              "      <td>0</td>\n",
              "      <td>0</td>\n",
              "      <td>0</td>\n",
              "      <td>0</td>\n",
              "      <td>0</td>\n",
              "      <td>1</td>\n",
              "      <td>0</td>\n",
              "      <td>0</td>\n",
              "    </tr>\n",
              "  </tbody>\n",
              "</table>\n",
              "</div>"
            ],
            "text/plain": [
              "   GrLivArea  GarageArea  ...  OverallQual_8  OverallQual_9\n",
              "0       1779         546  ...              0              0\n",
              "1       1348         216  ...              0              0\n",
              "2       1630         451  ...              0              0\n",
              "3       1074         495  ...              0              0\n",
              "4       2196         701  ...              0              0\n",
              "\n",
              "[5 rows x 17 columns]"
            ]
          },
          "metadata": {
            "tags": []
          },
          "execution_count": 1428
        }
      ]
    },
    {
      "cell_type": "code",
      "metadata": {
        "id": "mC0GNNfFMr6a",
        "outputId": "6f3ce29c-6eb4-4a91-a59f-057ca4fa0659",
        "colab": {
          "base_uri": "https://localhost:8080/"
        }
      },
      "source": [
        "# predicting saleprice\n",
        "regressor.predict(z)"
      ],
      "execution_count": null,
      "outputs": [
        {
          "output_type": "execute_result",
          "data": {
            "text/plain": [
              "array([193476.11817518, 107002.36865071, 178555.49259735, 110796.68804609,\n",
              "       227601.45882812,  93656.62999353, 165347.2001217 , 123309.66923652,\n",
              "       228834.99871964, 167858.28055283, 233459.0638345 ,  61731.65669287,\n",
              "        86880.07428347,  93154.45584272,  93030.95810627, 172888.63386155,\n",
              "       212952.97136656,  59122.68695705, 252999.97534824,  87434.84289577,\n",
              "       106593.41205661, 157795.15218864, 172803.33881458, 166343.95279764,\n",
              "       114461.04553318, 186988.96380719, 107260.55907589, 291802.28133403,\n",
              "       128887.52443922, 201507.22203704, 116942.79256385, 104999.30650004,\n",
              "       119687.12928236, 126781.60481098, 129048.10892816, 332126.50066905,\n",
              "       195271.96230359, 129774.43264569, 217007.92045107, 192650.87666803,\n",
              "       216500.26518265, 158150.96364608, 140097.40561725, 213907.66229686,\n",
              "       170184.56480051, 185514.07112133, 151567.0132372 , 175295.62664777,\n",
              "        90883.58919744, 210441.93167115, 115571.12668494,  85297.43399119,\n",
              "       213372.68785886, 176300.60848514, 147718.17708189, 260376.2696474 ,\n",
              "        64909.24178355, 148945.80101343, 123228.74819124, 161049.75977663,\n",
              "        98638.97669018, 129322.73182478, 170669.75984797,  90470.30749196,\n",
              "       120142.26419847, 199516.5800574 , 340699.01654741, 364732.86107596,\n",
              "       123717.03667201, 181886.55116505, 147834.13397304,  88728.53775907,\n",
              "       130083.55656594, 124620.10579113, 148366.04165207, 144956.23454455,\n",
              "       162291.42788106, 255003.4848472 , 107619.31548174, 181751.43342364,\n",
              "       164459.1368421 , 108127.0373373 , 131396.94230145, 193045.58658086,\n",
              "       130974.31736396, 143321.66322121, 132142.34455355, 176522.59563954,\n",
              "       263688.09652272, 114426.76884555, 259931.95971411, 179469.20100406,\n",
              "       185768.53659742, 104285.31697462,  95309.50728108, 115899.23736347,\n",
              "        76528.44285471, 379777.07505353, 107391.81018398, 201095.62876828,\n",
              "       130974.38820607, 301226.13925153, 204133.47510669, 125867.89967423,\n",
              "       326583.28741556, 113214.60821394, 105039.30003052, 115768.26962383,\n",
              "       139206.38737429, 201840.19845184, 162455.18567822, 310729.5649577 ,\n",
              "       375650.57039209,  80422.60249791, 190724.06980896, 251929.71586222,\n",
              "       111763.93223157, 253050.5887576 ,  78219.74514457, 145838.62449692,\n",
              "        53328.25113974, 202814.88023276,  47648.1759956 , 263619.94554655,\n",
              "        52597.9650378 ,  36608.74480054,  80382.93001655, 225117.43931211,\n",
              "       179425.22001807, 247157.9413164 , 109622.95839148,  73548.63327296,\n",
              "       113253.32255939,  71191.26318586, 150680.75665151, 140813.63950845,\n",
              "        46804.46195432, 194371.09981709,  84734.95796367,  89915.64314716,\n",
              "       134588.96226225, 267584.40448745, 163422.40246493, 168011.17750326,\n",
              "        83025.07391512, 212065.57130567, 249953.65060481, 175242.69403745,\n",
              "       233676.17929465, 227627.54803905, 162529.83998197, 141380.59966291,\n",
              "       329021.03838311, 218483.32465345, 197345.51191801,  84657.74782572,\n",
              "       111365.87491856, 303257.16293378, 340213.75065784, 205360.52827752,\n",
              "       171485.107184  , 130916.06639386, 141437.88979236, 104178.04670532,\n",
              "       195624.31708437, 196986.09208172,  70219.21309023,  56700.85414755,\n",
              "       229422.65812624, 108376.76022329, 151657.38180159, 213909.90966519,\n",
              "       168260.71290479, 230391.76306173, 239111.28496353,  87727.59337704,\n",
              "       151966.40073295, 258180.35227758, 122256.18815905,  55438.88750665,\n",
              "       189215.48622313, 194585.08769716, 135609.350863  , 122312.18654012,\n",
              "        89256.03697318, 251244.06620241, 189228.43212323, 326225.74010632,\n",
              "       131076.56919676, 178845.03061466, 156451.84970582,  86759.87166275,\n",
              "       202320.09846355, 132617.32863605, 284845.70768743, 150577.09403969,\n",
              "       113805.00858231, 139928.17879595, 137593.1327967 , 111730.99721987,\n",
              "       149278.16995258, 174181.38874624, 235295.64882239, 125791.26759689,\n",
              "       174621.10883479,  86769.831667  ,  63165.56609823, 120837.50212851,\n",
              "       210862.50827021, 202139.00815726, 144754.1500379 ,  91758.49731736,\n",
              "       247445.27270109, 161693.80847021, 137324.48473346, 191418.86437815,\n",
              "       312440.16220807, 103788.57276431, 173171.49774885, 165343.59675184,\n",
              "        70508.36020163,  56700.85414755, 185817.24836385, 125226.30857397,\n",
              "       139046.84541204, 211604.65879482, 123770.7942737 ,  78055.81576851,\n",
              "       145422.19789964, 145302.62359685,  64264.87629613,  77141.83984626,\n",
              "       164119.92539175, 112964.33117399, 150534.01890514,  92769.94835516,\n",
              "       262996.31275627, 165338.40422337, 190714.10479573, 222250.32988823,\n",
              "        56700.85414755, 133600.42792024,  99042.56237624, 178902.86737601,\n",
              "       100153.19189892, 104611.32427039, 256876.46827144, 109968.43479167,\n",
              "       203959.99749952, 113630.63158296, 247628.05467326,  60562.05542429,\n",
              "        80433.58014316, 152039.4191648 , 156583.5766233 , 183298.62708743,\n",
              "       204792.2713853 ,  93467.65892262, 105957.94673503])"
            ]
          },
          "metadata": {
            "tags": []
          },
          "execution_count": 1429
        }
      ]
    },
    {
      "cell_type": "code",
      "metadata": {
        "id": "FnpK3-hDpwOg",
        "outputId": "cfef38f4-4377-477f-a8de-d34284180c25",
        "colab": {
          "base_uri": "https://localhost:8080/"
        }
      },
      "source": [
        "# converting predicted saleprice into dataframe\n",
        "df['Predicted_SalePrice'] = pd.DataFrame(regressor.predict(z))\n",
        "\n",
        "df['Predicted_SalePrice'].head()"
      ],
      "execution_count": null,
      "outputs": [
        {
          "output_type": "execute_result",
          "data": {
            "text/plain": [
              "0    193476.118175\n",
              "1    107002.368651\n",
              "2    178555.492597\n",
              "3    110796.688046\n",
              "4    227601.458828\n",
              "Name: Predicted_SalePrice, dtype: float64"
            ]
          },
          "metadata": {
            "tags": []
          },
          "execution_count": 1430
        }
      ]
    },
    {
      "cell_type": "code",
      "metadata": {
        "id": "oDq3fpeWNrgp"
      },
      "source": [
        "df.to_excel(excel_writer = \"C:\\\\Users\\\\Admin\\\\Downloads\\\\data\\\\test.xlsx\")"
      ],
      "execution_count": null,
      "outputs": []
    },
    {
      "cell_type": "markdown",
      "metadata": {
        "id": "41ShUiPaTzt8"
      },
      "source": [
        "# **LASSO regression**"
      ]
    },
    {
      "cell_type": "code",
      "metadata": {
        "id": "P4frkkF6TluV",
        "outputId": "8b5c8db1-81f9-40f5-fb5b-f3e0cd5b5fdd",
        "colab": {
          "base_uri": "https://localhost:8080/"
        }
      },
      "source": [
        "from sklearn.linear_model import Lasso\n",
        "\n",
        "model = Lasso(alpha = 20, max_iter = 5000, tol = 0.001)\n",
        "model.fit(X_train, Y_train)\n",
        "pred = model.predict(X_test)\n",
        "\n",
        "print_evaluate(Y_test, pred)"
      ],
      "execution_count": null,
      "outputs": [
        {
          "output_type": "stream",
          "text": [
            "MAE: 22615.287533156825\n",
            "MSE: 930456697.8484045\n",
            "RMSE: 30503.388301111805\n",
            "R2 Square 0.7772005585324984\n"
          ],
          "name": "stdout"
        }
      ]
    },
    {
      "cell_type": "code",
      "metadata": {
        "id": "93KAzyIUWh48",
        "outputId": "5cd70edd-4d41-4c6a-b187-feec635e514c",
        "colab": {
          "base_uri": "https://localhost:8080/",
          "height": 107
        }
      },
      "source": [
        "results_df_2 = pd.DataFrame(data=[[\"Lasso Regression\", *evaluate(Y_test, pred) , cross_val(Lasso(alpha = 20, max_iter = 5000, tol = 0.001))]], \n",
        "                            columns=['Model', 'MAE', 'MSE', 'RMSE', 'R2 Square', \"Cross Validation\"])\n",
        "results_df = results_df.append(results_df_2, ignore_index=True)\n",
        "results_df"
      ],
      "execution_count": null,
      "outputs": [
        {
          "output_type": "execute_result",
          "data": {
            "text/html": [
              "<div>\n",
              "<style scoped>\n",
              "    .dataframe tbody tr th:only-of-type {\n",
              "        vertical-align: middle;\n",
              "    }\n",
              "\n",
              "    .dataframe tbody tr th {\n",
              "        vertical-align: top;\n",
              "    }\n",
              "\n",
              "    .dataframe thead th {\n",
              "        text-align: right;\n",
              "    }\n",
              "</style>\n",
              "<table border=\"1\" class=\"dataframe\">\n",
              "  <thead>\n",
              "    <tr style=\"text-align: right;\">\n",
              "      <th></th>\n",
              "      <th>Model</th>\n",
              "      <th>MAE</th>\n",
              "      <th>MSE</th>\n",
              "      <th>RMSE</th>\n",
              "      <th>R2 Square</th>\n",
              "      <th>Cross Validation</th>\n",
              "    </tr>\n",
              "  </thead>\n",
              "  <tbody>\n",
              "    <tr>\n",
              "      <th>0</th>\n",
              "      <td>Linear Regression</td>\n",
              "      <td>22643.417621</td>\n",
              "      <td>9.322596e+08</td>\n",
              "      <td>30532.927206</td>\n",
              "      <td>0.776769</td>\n",
              "      <td>0.788990</td>\n",
              "    </tr>\n",
              "    <tr>\n",
              "      <th>1</th>\n",
              "      <td>Lasso Regression</td>\n",
              "      <td>22615.287533</td>\n",
              "      <td>9.304567e+08</td>\n",
              "      <td>30503.388301</td>\n",
              "      <td>0.777201</td>\n",
              "      <td>0.788821</td>\n",
              "    </tr>\n",
              "  </tbody>\n",
              "</table>\n",
              "</div>"
            ],
            "text/plain": [
              "               Model           MAE  ...  R2 Square  Cross Validation\n",
              "0  Linear Regression  22643.417621  ...   0.776769          0.788990\n",
              "1   Lasso Regression  22615.287533  ...   0.777201          0.788821\n",
              "\n",
              "[2 rows x 6 columns]"
            ]
          },
          "metadata": {
            "tags": []
          },
          "execution_count": 1433
        }
      ]
    }
  ]
}